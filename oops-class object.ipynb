{
 "cells": [
  {
   "cell_type": "code",
   "execution_count": 1,
   "metadata": {},
   "outputs": [
    {
     "name": "stdout",
     "output_type": "stream",
     "text": [
      "Sub-fields in AI are:\n",
      "Machine Learning\n",
      "Neural Networks\n",
      "Vision\n",
      "Robotics\n",
      "Speech Processing\n",
      "Natural Language Processung\n"
     ]
    }
   ],
   "source": [
    "list=[\"Machine Learning\",\"Neural Networks\",\"Vision\",\"Robotics\",\"Speech Processing\",\"Natural Language Processung\"]\n",
    "print(\"Sub-fields in AI are:\")\n",
    "class subfieldsINAI:\n",
    "    def subfields():\n",
    "        for subfields in list:\n",
    "            print(subfields)\n",
    "        \n",
    "subfieldsINAI.subfields()"
   ]
  },
  {
   "cell_type": "code",
   "execution_count": 2,
   "metadata": {},
   "outputs": [
    {
     "name": "stdout",
     "output_type": "stream",
     "text": [
      "Enter a number:52452\n",
      "52452 is even number\n"
     ]
    }
   ],
   "source": [
    "num=int(input(\"Enter a number:\"))\n",
    "class oddeven:\n",
    "    def oddeven():\n",
    "        if(num%2==0):\n",
    "            print(num,\"is even number\")\n",
    "        else:\n",
    "            print(num,\"is odd number\")\n",
    "oddeven.oddeven()"
   ]
  },
  {
   "cell_type": "code",
   "execution_count": 4,
   "metadata": {},
   "outputs": [
    {
     "name": "stdout",
     "output_type": "stream",
     "text": [
      "your gender:male\n",
      "your age:20\n",
      "your not eligible\n"
     ]
    }
   ],
   "source": [
    "gender=input(\"your gender:\")\n",
    "age=int(input(\"your age:\"))\n",
    "class Elegiblityformarriage:\n",
    "    def eligible():\n",
    "        if(gender==\"male\" and age>=21):\n",
    "            print(\"your eligible\")\n",
    "        elif(gender==\"female\" and age>=18):\n",
    "            print(\"your eligible\")\n",
    "        else:\n",
    "            print(\"your not eligible\")\n",
    "Elegiblityformarriage.eligible()"
   ]
  },
  {
   "cell_type": "code",
   "execution_count": 5,
   "metadata": {},
   "outputs": [
    {
     "name": "stdout",
     "output_type": "stream",
     "text": [
      "subject1=98\n",
      "subject2=87\n",
      "subject3=95\n",
      "subject4=95\n",
      "subject5=93\n",
      "Total: 468\n",
      "percentage: 93.6\n"
     ]
    }
   ],
   "source": [
    "sub1=int(input(\"subject1=\"))\n",
    "sub2=int(input(\"subject2=\"))\n",
    "sub3=int(input(\"subject3=\"))\n",
    "sub4=int(input(\"subject4=\"))\n",
    "sub5=int(input(\"subject5=\"))\n",
    "class findpercent:\n",
    "    def percentage():\n",
    "        Total=sub1+sub2+sub3+sub4+sub5\n",
    "        print(\"Total:\",Total)\n",
    "        percentage=Total/5\n",
    "        print(\"percentage:\",percentage)\n",
    "\n",
    "findpercent.percentage()"
   ]
  },
  {
   "cell_type": "code",
   "execution_count": 6,
   "metadata": {},
   "outputs": [
    {
     "name": "stdout",
     "output_type": "stream",
     "text": [
      "Height:32\n",
      "Breadth:34\n",
      "Height:2\n",
      "Height2:4\n",
      "Breadth:4\n",
      "area of triangle: 544.0\n",
      "perimeter of triangle: 10\n"
     ]
    }
   ],
   "source": [
    "height=int(input(\"Height:\"))\n",
    "breadth=int(input(\"Breadth:\"))\n",
    "height1=int(input(\"Height:\"))\n",
    "height2=int(input(\"Height2:\"))\n",
    "breadth1=int(input(\"Breadth:\"))\n",
    "class triangle:\n",
    "    def triangle():\n",
    "        area=height*breadth/2\n",
    "        print(\"area of triangle:\",area)\n",
    "        perimeter=height1+height2+breadth1\n",
    "        print(\"perimeter of triangle:\",perimeter)\n",
    "triangle.triangle()"
   ]
  },
  {
   "cell_type": "code",
   "execution_count": null,
   "metadata": {},
   "outputs": [],
   "source": []
  }
 ],
 "metadata": {
  "kernelspec": {
   "display_name": "Python 3",
   "language": "python",
   "name": "python3"
  },
  "language_info": {
   "codemirror_mode": {
    "name": "ipython",
    "version": 3
   },
   "file_extension": ".py",
   "mimetype": "text/x-python",
   "name": "python",
   "nbconvert_exporter": "python",
   "pygments_lexer": "ipython3",
   "version": "3.7.4"
  }
 },
 "nbformat": 4,
 "nbformat_minor": 2
}
